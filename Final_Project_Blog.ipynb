{
  "nbformat": 4,
  "nbformat_minor": 0,
  "metadata": {
    "colab": {
      "provenance": []
    },
    "kernelspec": {
      "name": "python3",
      "display_name": "Python 3"
    },
    "language_info": {
      "name": "python"
    }
  },
  "cells": [
    {
      "cell_type": "markdown",
      "source": [
        "#Evaluating the Accuracy of Amazon Textract - Handwritten vs Typed\n",
        "\n",
        "Group #6: Ruishi Chen, Vivienne Yu, Joyce Wang, Eric Yang, Mark Si"
      ],
      "metadata": {
        "id": "iFokD_wLp5sV"
      }
    },
    {
      "cell_type": "markdown",
      "source": [
        "##Introducing our team"
      ],
      "metadata": {
        "id": "VGpZgaC9qSJ2"
      }
    },
    {
      "cell_type": "markdown",
      "source": [
        "#### Member 1: Ruishi Chen\n",
        ">![picture](https://drive.google.com/uc?export=view&id=1Jt90ukjxj1MyawDTcndBuU5b3RD6zfyD)\n",
        "\n",
        ">*Hometown:* Chonqging\n",
        "\n",
        ">*Year:* Junior\n",
        "\n",
        ">*Majors:* Applied Mathematics and Statistics + Sociology \n",
        "\n",
        ">*Interests:* Workout and Hike "
      ],
      "metadata": {
        "id": "dn-d3hOqrvSB"
      }
    },
    {
      "cell_type": "markdown",
      "source": [
        "#### Member 2: Yicheng(Eric) Yang \n",
        ">![picture](https://drive.google.com/uc?export=view&id=1oC_7N1V8HNIYQzAWgppWQYZSWfzOCV_S)\n",
        ">*Hometown:* Suzhou \n",
        "\n",
        ">*Year:* Junior\n",
        "\n",
        ">*Major/Minor(s):* \n",
        "Applide Mathematics and Statistics + Computer Science\n",
        "\n",
        ">*Interests:* Magic Trick "
      ],
      "metadata": {
        "id": "Vi8LCYDJsc8_"
      }
    },
    {
      "cell_type": "markdown",
      "source": [
        "#### Member 3: Mark Si\n",
        ">![picture](https://drive.google.com/uc?export=view&id=1If8-Vfl2aW_ewU4tG88sP3lw9R3jJE2N)\n",
        ">*Hometown:* Shenzhen\n",
        "\n",
        ">*Year:* Junior\n",
        "\n",
        ">*Majors:* Philosophy + Quantitative Science with Informatics \n",
        "\n",
        ">*Interests:* Metal "
      ],
      "metadata": {
        "id": "vNM8g2FfsebA"
      }
    },
    {
      "cell_type": "markdown",
      "source": [
        "#### Member 5: Joyce Wang \n",
        ">![picture](https://drive.google.com/uc?export=view&id=1umy38-B56AzMCLMK4UfdkZC8FWQGve0W)\n",
        "\n",
        ">*Hometown:* Hangzhou\n",
        "\n",
        ">*Year:* Senior\n",
        "\n",
        ">*Majors:* Quantitative Science + Psychology \n",
        "\n",
        ">*Interests:* Travel"
      ],
      "metadata": {
        "id": "yIGh5D3isioV"
      }
    },
    {
      "cell_type": "markdown",
      "source": [
        "#### Member 6: Vivienne Yu \n",
        ">![picture](https://drive.google.com/uc?export=view&id=1NY4GMtyjvpWXiUWJgqNCqCGx-V8R7ZsI)\n",
        ">*Hometown:* Beijing \n",
        "\n",
        ">*Year:* Senior\n",
        "\n",
        ">*Majors:* Applied Mathematics and Statistics + Film and Media Studies \n",
        "\n",
        ">*Interests:* Watching Movies"
      ],
      "metadata": {
        "id": "yijf709Bslqk"
      }
    },
    {
      "cell_type": "markdown",
      "source": [
        "## Project Introduction"
      ],
      "metadata": {
        "id": "q7EzQJNls2VZ"
      }
    },
    {
      "cell_type": "markdown",
      "source": [
        "###Why Amazon Textract?\n",
        "Taking a map photo with my newest iPhone 12 while going to Legoland in San Diego, I realized that my phone can automatically detect the text in the photo, and I can easily extract the text and paste it in the text form. After finding out this cool ability that my phone can do, I start taking pictures of the handouts from my classes, and easily convert the paper-copy into a text file into my laptop. Ever since I start using this “super-ability,” my backpack is forever lighter.\n",
        "\n",
        "As a person who prefers taking notes with a pen and paper, I thought this might also help converting my notes into a digital version. However, when I scribble my notes under a very short period of time, my phone fails to detect the words correctly and it would not improve my efficiency for a greater extend. I want to find a tool that might satisfy this need. With that in mind, my team and I choose Amazon Textract, a very useful and powerful machine learning (ML) service from AWS, that could be an essential tool for natural language processing or any kinds of language processing machine learning algorithm. \n",
        "\n",
        "Since the majority of our team members doubled majored in a stem major together with a social science/humanity major, we are interested in some sort of interdisciplinary study that utilizes both computer science and a different area of study. Therefore, besides running Textract on the modern language, we also select “old” language, Shakespeare, and math equations to run on Textract. Because we usually hand-write math equations, it would be very efficient if we can get the hand-written math equations converted into digital version under the time of just taking a picture. Additionally, many old literatures have only copies in the library, it would also be beneficial if we can convert the physical literature into a digital version where we can highlight on the electronic device instead of damaging the precious old copies. We have two sample groups, one hand-written, one typed, and we want to check the accuracy for both after running them on Textract. Hopefully, evaluating the accuracy for Amazon Textract can also facilitate our research in other areas in the future."
      ],
      "metadata": {
        "id": "Cb6Zmvifs_AV"
      }
    },
    {
      "cell_type": "markdown",
      "source": [
        "###What is Amazon Textract?\n",
        "\n",
        ">![picture](https://drive.google.com/uc?export=view&id=1WONCX5ouLURhg0lg2fnpEnIGq6CUjNqu)\n",
        "\n",
        "Amazon Textract is a machine learning (ML) service that automatically detect typed and handwritten text, extract text, forms, and tables with structured data, specify and extract information, process invoices and receipts, and process ID documents, in application.\n",
        "\n",
        "People usually utilize Amazon Textract in the following case:\n",
        "\n",
        "- Creating an intelligent search index\n",
        "\n",
        "- Using intelligent text extraction for natural language processing (NLP)\n",
        "\n",
        "- Accelerating the capture and normalization of data from different sources\n",
        "\n",
        "- Automating data capture from forms\n",
        "\n",
        "The benefits of using Amazon Textract includes:\n",
        "\n",
        "- Integration of document text detection into your apps\n",
        "\n",
        "- Scalable document analysis\n",
        "\n",
        "- Low cost"
      ],
      "metadata": {
        "id": "_ff_r35myrhi"
      }
    },
    {
      "cell_type": "markdown",
      "source": [
        "###Research Question\n",
        "\n",
        "Due to Amazon Textract's ability to extract different types of text, we especailly want to focus on **how accurate is its ability to detect and extract text blocks for handwritten text vs typed text**. "
      ],
      "metadata": {
        "id": "n3ZJfrCa3GRp"
      }
    },
    {
      "cell_type": "markdown",
      "source": [
        "###Hypothesis\n",
        "\n",
        "We first expect the printed version should have higher accuracy than the hand-written version. Secondly, we expect the modern language would be the easiest to detect, following the old language, then the math equations."
      ],
      "metadata": {
        "id": "nIA-pqSn4HHl"
      }
    },
    {
      "cell_type": "markdown",
      "source": [
        "##Experiment Design"
      ],
      "metadata": {
        "id": "7P3Keuel4Kd3"
      }
    },
    {
      "cell_type": "markdown",
      "source": [
        "### Research Methods\n",
        "\n",
        "We are going to create a few sample text blocks containing different types of information and English styles, and for each sample text blocks there will be a typed version and a handwritten version. For the typed version, we will have a screenshot of the typed text block. For the handwritten version, we will have a picture of the handwritten text block. \n",
        "\n",
        "Next, all the pictures containing the text blocks will be uploaded to the S3 bucket. We will, then, use Amazon Textract to detect and process the pictures uploaded for the text blocks contained in them. \n",
        "\n",
        "Finally, we will format the returned text to show type, the detected text, the percentage for confidence(the higher the percentage the higher the confidence in detecting the correct text), and the uploaded images with bounded lines showing what is being extracted from the image.\n",
        "\n",
        "To check the accuracy, we will calculate the percentage for the words correctly extracted for both the handwritten text and the typed text and compare the results.\n"
      ],
      "metadata": {
        "id": "bZ8HsgIJ_ehJ"
      }
    },
    {
      "cell_type": "markdown",
      "source": [
        "### Data Collection\n",
        "\n",
        "The most important part of our experiment is to choose the. In order to see how accurately Amazon Textract pull out the words, we are going to use printed words and hand written words to compare and contrast the result. Three types of words are used:\n",
        "\n",
        "- Modern English\n",
        ">![picture](https://drive.google.com/uc?export=view&id=1Dv19HsX0WJd7SzBWW7CHMg8gI2ph4Yzw)\n",
        ">![picture](https://drive.google.com/uc?export=view&id=1huMfr5N0_Rnni-ebdhcRuxS2zXTi2s8u)\n",
        "- Shakespeare so called “old English”\n",
        ">![picture](https://drive.google.com/uc?export=view&id=1dQVq7AJOHy1bBeHgGlEvHO6GeYwneqkb)\n",
        ">![picture](https://drive.google.com/uc?export=view&id=1f_vHvrbXBZuLRjrCXj8fiOLKRz1Xildv)\n",
        "- Number with math characters\n",
        ">![picture](https://drive.google.com/uc?export=view&id=13yft7eMcJwAykRu1HiGnkeppvhEZN1dn) \n",
        ">![picture](https://drive.google.com/uc?export=view&id=1GM-ULiJgnhRuYvg6WiehTTJ8hXhwBREZ)\n",
        "\n",
        "One of our members is going to type and write all the texts to control the variations in handwriting styles. \n"
      ],
      "metadata": {
        "id": "Mz-sUBsx4Q0c"
      }
    },
    {
      "cell_type": "markdown",
      "source": [
        "### Architectural Diagram\n",
        "\n",
        ">![picture](https://drive.google.com/uc?export=view&id=1gegkhaAl-c1ch-cocV1qjqMG4T7cDvdi)\n",
        "\n",
        "**Architecture of Amazon Textract**\n",
        "\n",
        "The architecture diagram shows the specific steps of the architecture. Since we are using the AWS Textract service in a SageMaker Notebook, the first component of our processing architecture is to initiate an Amazon SageMaker notebook instance in the specifically available elastic compute cloud regions through Amazon SageMaker (Step (1) —> (2)). We use Jupyter Lab notebook to build our pipelines for the implementation. In the meanwhile, we uploaded the files we wish to process to the S3 bucket (3). By calling the bucket in the SageMaker notebook (4), we were able to obtain the images and pass them to the Textract APIs (5). After we obtain the outputs from the Textract in the SageMaker notebook (6), we added our GitHub repository to the Amazon SageMaker and pushed our notebook to the repo (7). More official guidance on the steps is listed below.\n",
        "\n",
        "1. ~ 2. The user initiates the Amazon SageMaker notebook instance in the allowed regions.\n",
        "3. User uploads images, and text files to Amazon S3 bucket.\n",
        "4. Amazon SageMaker calls the S3 bucket to obtain the files for processing (as the user command in the notebook through pipelines). \n",
        "5. User uses Textract APIs to scanned and analyzed the uploaded files. \n",
        "6. Amazon Textract outputs its result in the notebook.\n",
        "7. User pushes the notebook to the GitHub repo that was added in the SageMaker.\n",
        "\n",
        "**Potential implementation of the study result**\n",
        "\n",
        "Our study’s results will help its audiences to distinguish the materials that are most suitable for Amazon Textract service and the accuracy of processing their desired file types. Subsequently, by knowing the accuracy of Textract, the users of Textract can make a better selection when choosing text analysis services and become aware of potential errors the ML service may produce. "
      ],
      "metadata": {
        "id": "UHc5x8YF-76p"
      }
    },
    {
      "cell_type": "markdown",
      "source": [
        "## Walkthrough"
      ],
      "metadata": {
        "id": "APZ1jk2kLHci"
      }
    },
    {
      "cell_type": "markdown",
      "source": [
        "### Step 1:\n",
        "#### We Need to Import the Corresponding Packages\n",
        "\n",
        "Because we want to use Python SDK, or integrating Python application, library or script with AWS services (like S3 and Textract), we need to import **boto3**. \n",
        "\n",
        "Also, since Textract mainly deals with Image, or trying to help us extract information from image, we need the **Image** and **ImageDraw** module from Pillow to help us to import our data using pictures, retouch existing images, and generate new image after it is processed by the service. \n",
        "\n",
        "Last but not lease, we need to use **io** to help us read information from whatever file we choose to use."
      ],
      "metadata": {
        "id": "d-4ZJnAgLP4z"
      }
    },
    {
      "cell_type": "code",
      "source": [
        "import boto3\n",
        "import io\n",
        "from PIL import Image, ImageDraw"
      ],
      "metadata": {
        "id": "4A4v3YKxMLQc"
      },
      "execution_count": null,
      "outputs": []
    },
    {
      "cell_type": "markdown",
      "source": [
        "### Step 2: \n",
        "#### Import the file we want to process to the S3 bucket. \n",
        "\n",
        "First of all, we need to know what buckets do we have using the ls:\n",
        "\n"
      ],
      "metadata": {
        "id": "Bj25T4QwMO0v"
      }
    },
    {
      "cell_type": "code",
      "source": [
        "!aws s3 ls"
      ],
      "metadata": {
        "id": "p-IDooUAMVJ0"
      },
      "execution_count": null,
      "outputs": []
    },
    {
      "cell_type": "markdown",
      "source": [
        "In there, we could see that our group have created a S3 bucket specifically for this final project. So, this is the bucket where we want to use to import the file that is ready to be processed. In general, you could just choose a bucket to use for the purpos of using the service. "
      ],
      "metadata": {
        "id": "m0ShjTeMMYLD"
      }
    },
    {
      "cell_type": "markdown",
      "source": [
        "Then, we could upload the image we want to process using the AWS service into this notebook. After upload, we could check if we have successfully done so using *ls*"
      ],
      "metadata": {
        "id": "FNlzFWSPMZEg"
      }
    },
    {
      "cell_type": "code",
      "source": [
        "!ls"
      ],
      "metadata": {
        "id": "XZpuFvJTMd7V"
      },
      "execution_count": null,
      "outputs": []
    },
    {
      "cell_type": "markdown",
      "source": [
        "After we upload and before we move our image to the busket we are going to use, it shoudl show the image file with this ipynb notebook.\n",
        "\n",
        "Next, we could move the image to the S3 bucket using the following code: \n",
        "\n",
        "*!aws s3 mv IMAGE_NAME s3://BUCKET_NAME*\n",
        "\n",
        "Where the capitalized part within this code needs to be changed into your corresponding information. Take our groups' image and bucket as an example: "
      ],
      "metadata": {
        "id": "6Cdo4OzQMixn"
      }
    },
    {
      "cell_type": "code",
      "source": [
        "! aws s3 mv Emory-website.png s3://finalproject-group5"
      ],
      "metadata": {
        "id": "pYIG4Me_MnYw"
      },
      "execution_count": null,
      "outputs": []
    },
    {
      "cell_type": "markdown",
      "source": [
        "We could double check if the file is in the bucket we want to import our file to process using *ls*: "
      ],
      "metadata": {
        "id": "dL2zRin8Mp7q"
      }
    },
    {
      "cell_type": "code",
      "source": [
        "!aws s3 ls finalproject-group5"
      ],
      "metadata": {
        "id": "FTrlaZZxMqVG"
      },
      "execution_count": null,
      "outputs": []
    },
    {
      "cell_type": "markdown",
      "source": [
        "As shown above, the file is already there. So now we are ready to use our service to process the image. "
      ],
      "metadata": {
        "id": "OZUJCXSGMt3b"
      }
    },
    {
      "cell_type": "markdown",
      "source": [
        "### Step 3: \n",
        "#### Start using AWS Serviec to Extract Information from Image\n",
        "\n",
        "Firstly, we need to use the *boto3* to connect with our *s3* bucket. Then, we need to find the specific object from the bucket and make the connection so we get the resource ready for the service to run through. \n",
        "\n",
        "When making the connection we could just use the following code: \n",
        "\n",
        "*s3_connection.Object(\"BUCKET NAME\",\"IMAGE NAME\")*\n",
        "\n",
        "Again, where the capitalized part within this code needs to be changed into your corresponding information."
      ],
      "metadata": {
        "id": "0_joYaU-M0K7"
      }
    },
    {
      "cell_type": "markdown",
      "source": [
        "s3_connection = boto3.resource('s3')\n",
        "                          \n",
        "s3_object = s3_connection.Object(\"finalproject-group5\",\"Emory-website.png\")\n",
        "s3_response = s3_object.get()"
      ],
      "metadata": {
        "id": "SbAjvTLCM8EC"
      }
    },
    {
      "cell_type": "markdown",
      "source": [
        "Next, we need to read the resource we get from the s3 bucket. "
      ],
      "metadata": {
        "id": "hL9zzCL8M-hL"
      }
    },
    {
      "cell_type": "code",
      "source": [
        "stream = io.BytesIO(s3_response['Body'].read())\n",
        "image=Image.open(stream)"
      ],
      "metadata": {
        "id": "YmY7gnOLNAPA"
      },
      "execution_count": null,
      "outputs": []
    },
    {
      "cell_type": "markdown",
      "source": [
        "Now, it's time for us to call the service our and prepare for the service to run through our file. \n",
        "\n",
        "In general, to call service using Python SDK, we could use: \n",
        "\n",
        "*boto3.client('SERVICE NAME')*\n",
        "\n",
        "(where the capitalized part within this code needs to be changed into your corresponding information)"
      ],
      "metadata": {
        "id": "i_8jJHCQNCDB"
      }
    },
    {
      "cell_type": "code",
      "source": [
        "client = boto3.client('textract')"
      ],
      "metadata": {
        "id": "l7m6-fqFNFXT"
      },
      "execution_count": null,
      "outputs": []
    },
    {
      "cell_type": "markdown",
      "source": [
        "To use this ervice, we could use the following code to tell the computer all the information it needs to find the file it will run service through:\n",
        "\n",
        "*response = client.detect_document_text(Document={'S3Object': {'Bucket': \"BUCKET NAME\", 'Name': \"IMAGE NAME\"}})*\n",
        "\n",
        "(S30bject -- is the resource where you make connection from previous codes.)"
      ],
      "metadata": {
        "id": "44lLVmkQNH6i"
      }
    },
    {
      "cell_type": "code",
      "source": [
        "response = client.detect_document_text(\n",
        "    Document={'S3Object': {'Bucket': \"finalproject-group5\", 'Name': \"Emory-website.png\"}})"
      ],
      "metadata": {
        "id": "lPBe1hJ3NK-6"
      },
      "execution_count": null,
      "outputs": []
    },
    {
      "cell_type": "markdown",
      "source": [
        "Then, we want to show our response as blocks so it is easy to see what is detected and what is not. Also, we want to create the printed notification to notify if the service is successfully run through. "
      ],
      "metadata": {
        "id": "6drZachFNM0Y"
      }
    },
    {
      "cell_type": "code",
      "source": [
        "blocks=response['Blocks']\n",
        "width, height =image.size    \n",
        "print ('Detected Document Text')"
      ],
      "metadata": {
        "id": "Uu_nuEswNOrS"
      },
      "execution_count": null,
      "outputs": []
    },
    {
      "cell_type": "markdown",
      "source": [
        "Lastly, we could just show what it is detected from calling our named object *blocks*"
      ],
      "metadata": {
        "id": "T6uhUeASNQaO"
      }
    },
    {
      "cell_type": "code",
      "source": [
        "blocks"
      ],
      "metadata": {
        "id": "9S8eQpygNSPG"
      },
      "execution_count": null,
      "outputs": []
    },
    {
      "cell_type": "markdown",
      "source": [
        "## Experiment Process"
      ],
      "metadata": {
        "id": "AaGp5CH0Jmnr"
      }
    },
    {
      "cell_type": "markdown",
      "source": [
        "For the three types of text mentioned above (modern English, Old English, and math), we respectively conduct two experiments within each category to examine the accuracy of the Amazon Textract. The two experiments are as followed: \n",
        "1. Handwritten analysis: one of our group member writes the text out on a sheet of paper, and we examine how accurate can the Amazon Textract identify these handwritings;\n",
        "2. Typed analysis: Instead of writing with hands, one of our group member types the text out and takes a screenshot for the Amazon Textract to identify the sentences."
      ],
      "metadata": {
        "id": "OnfrIGcANJ_5"
      }
    },
    {
      "cell_type": "markdown",
      "source": [
        "### 1. Analysis of Modern English"
      ],
      "metadata": {
        "id": "i-UUhUzmNMn5"
      }
    },
    {
      "cell_type": "markdown",
      "source": [
        "####Handwritten Analysis:"
      ],
      "metadata": {
        "id": "5drur5OhNOcg"
      }
    },
    {
      "cell_type": "markdown",
      "source": [
        "Text:\n",
        ">![picture](https://drive.google.com/uc?export=view&id=1huMfr5N0_Rnni-ebdhcRuxS2zXTi2s8u)\n",
        "\n",
        "Output of Amazon Text Extract:\n",
        ">![picture](https://drive.google.com/uc?export=view&id=1rNmJeseVShGuvsI7EWu6eWiAy986qWml)\n",
        ">![picture](https://drive.google.com/uc?export=view&id=14vyrrdYxiyPBEfpLF_CchW_ms3t9ADiX)"
      ],
      "metadata": {
        "id": "cUyKlnbMNQWv"
      }
    },
    {
      "cell_type": "markdown",
      "source": [
        "From above, we can see that the Amazon Textract has a 79/84 = 94% accuracy when examining the handwritten modern english text (incorrect extractions are marked by the red circle). During the writing process, our member deliberately makes certain letters continuous and italicized, checking if the text extract algorithm would identify these letters. Surprisingly, as shown in the blue circles, these letters are accurately identified by the algorithm, and we are very impressed by this accuracy rate."
      ],
      "metadata": {
        "id": "GDiEi7dINVxT"
      }
    },
    {
      "cell_type": "markdown",
      "source": [
        "####Typed Analysis"
      ],
      "metadata": {
        "id": "nLyA8tgQNY2S"
      }
    },
    {
      "cell_type": "markdown",
      "source": [
        "Text:\n",
        ">![picture](https://drive.google.com/uc?export=view&id=1HTyBAFVUIkKiZWL9_6C_-kbcMwy04K3z)\n",
        "\n",
        "Output of Amazon Text Extract:\n",
        ">![picture](https://drive.google.com/uc?export=view&id=1MxrW5kEJgIrBiEYi88w5rXyExp5EeTnl)"
      ],
      "metadata": {
        "id": "I5IA_RHFNbCm"
      }
    },
    {
      "cell_type": "markdown",
      "source": [
        "From above, we can see that the Amazon Textract has a 100% accuracy when it is dealing with typed modern English text. Though expected by many of our group members, this is nevertheless a very impressive result. We can also see that the algorithm always has a more than 99.5% confidence when analyzing the typed text, meaning this accuracy rate is not likely achieved by chance."
      ],
      "metadata": {
        "id": "aImVAuIANfbW"
      }
    },
    {
      "cell_type": "markdown",
      "source": [
        "### 2. Analysis of \"Old English\""
      ],
      "metadata": {
        "id": "Wcl7MBuXNhWm"
      }
    },
    {
      "cell_type": "markdown",
      "source": [
        "####Handwritten Analysis:"
      ],
      "metadata": {
        "id": "hqRGeXsONjP8"
      }
    },
    {
      "cell_type": "markdown",
      "source": [
        "Text:\n",
        ">![picture](https://drive.google.com/uc?export=view&id=1HjZzf1dEzqnYOmv6Sg3jSZbxtSktAWi-)\n",
        "\n",
        "Output of Amazon Text Extract:\n",
        ">![picture](https://drive.google.com/uc?export=view&id=16kPYHFNppFIZKHUPvdIUGgPQPmO16d5f)\n",
        ">![picture](https://drive.google.com/uc?export=view&id=1vSAdxVNBvtPv9y8nez1AtY8VZvcUcQf8)"
      ],
      "metadata": {
        "id": "piTDRQ0nNlJN"
      }
    },
    {
      "cell_type": "markdown",
      "source": [
        "From above, we can see that the Amazon Textract has a 53/55 = 96.36% accuracy when examining the handwritten \"old english\" text (incorrect extractions are marked by the red circle). Surprisingly, considering the amount of scribbles and cursive letters in the handwritten text, the Amazon Textract has a even better performance when analyzing \"old english\" text."
      ],
      "metadata": {
        "id": "qhS0csJ9NpJQ"
      }
    },
    {
      "cell_type": "markdown",
      "source": [
        "####Typed Analysis:"
      ],
      "metadata": {
        "id": "aFdn0952Ntyg"
      }
    },
    {
      "cell_type": "markdown",
      "source": [
        "Text:\n",
        ">![picture](https://drive.google.com/uc?export=view&id=1FZHnEzT1dFVqGlJGKN0eD2UovwM_dMVu)\n",
        "\n",
        "Output of Amazon Text Extract:\n",
        ">![picture](https://drive.google.com/uc?export=view&id=133r_0DMmHbnnXDGWaWPdlgA2pu4ojYpt)\n",
        ">![picture](https://drive.google.com/uc?export=view&id=1m-CwCyALreTZKcGzHKU8phOo5hsFPoJB)"
      ],
      "metadata": {
        "id": "tpxZKtaKNvaW"
      }
    },
    {
      "cell_type": "markdown",
      "source": [
        "From above, the Amazon Textract has a 100% accuracy when examining the typed \"old english\" text. This result is consistent when considering the Amazon Textract's perfect result with the modern english text. From the observations above, we can arrive at a preliminary hypothesis here, that the Amazon Textract has no preference over either modern or old english text, no matter handwritten or typed."
      ],
      "metadata": {
        "id": "4q4WQ58lNykz"
      }
    },
    {
      "cell_type": "markdown",
      "source": [
        "### 3. Analysis of Math Languages and Numbers"
      ],
      "metadata": {
        "id": "MCZWXUcqN2Bd"
      }
    },
    {
      "cell_type": "markdown",
      "source": [
        "####Handwritten Analysis:"
      ],
      "metadata": {
        "id": "ATgBReQhN3vH"
      }
    },
    {
      "cell_type": "markdown",
      "source": [
        "Text:\n",
        ">![picture](https://drive.google.com/uc?export=view&id=1u_z1qMWwKLFsKu7I4LKyEqykGLsFVFZo)\n",
        "\n",
        "Output of Amazon Text Extract:\n",
        ">![picture](https://drive.google.com/uc?export=view&id=1M9DmraUJj7C2Bc5PMPVsm9yYBq0FgkZn)\n",
        ">![picture](https://drive.google.com/uc?export=view&id=1tq-BaqL4m50wJ2ArEYtZRF9GcJnmr6zZ)"
      ],
      "metadata": {
        "id": "U4vrBGF4N55m"
      }
    },
    {
      "cell_type": "markdown",
      "source": [
        "From above, we can see that the Amazon Textract has a 59/72 = 81.94%\n",
        "accuracy when examining the handwritten math language text (incorrect extractions are marked by the red circle). This result is significantly lower than the previous two cases, and we believe that several things are happening here: first, the Textract algorithm fails to detect the cursive letter 'I' and treat it as a 'Z' (which is a closer match graphical wise, if not considering the context); second, the text extract algorithm is unable to detect the power letter we put in the text, and in all cases, it transforms the second power to either a plain '2' or a letter 'z'."
      ],
      "metadata": {
        "id": "S85AcQlKPFVm"
      }
    },
    {
      "cell_type": "markdown",
      "source": [
        "####Typed Analysis:"
      ],
      "metadata": {
        "id": "aZYmPekKPp47"
      }
    },
    {
      "cell_type": "markdown",
      "source": [
        "Text:\n",
        ">![picture](https://drive.google.com/uc?export=view&id=1knRMPdqvX1WGyOT3OuFg5dWYUJ_L733m)\n",
        "\n",
        "Output of Amazon Text Extract:\n",
        ">![picture](https://drive.google.com/uc?export=view&id=1mqS8_8jhdwPE98aMbMPMB7D-SGah0qQ2)\n"
      ],
      "metadata": {
        "id": "oUfH8FLcPrbX"
      }
    },
    {
      "cell_type": "markdown",
      "source": [
        "Once again, we obtain a result of 100% accuracy with the typed text. The problem with the cursive letters, as shown in the handwritten case, is no longer a issue here, as every letter is standardized and easily recognizable. We are able to conclude that the Amazon Textract has a incredible, if not perfect, performance towards the typed text, no matter what the content is. "
      ],
      "metadata": {
        "id": "uVVGmxtEPyVS"
      }
    },
    {
      "cell_type": "markdown",
      "source": [
        "## Results and Conclusion"
      ],
      "metadata": {
        "id": "K8oII90DJs2E"
      }
    },
    {
      "cell_type": "markdown",
      "source": [
        "Based on our data and analysis, for the first hypothesis, the evidence supports that Amazon Textract will have a better accuracy in detecting information from typed text than hand-written text. \n",
        "\n",
        "Then, for the second hypothesis, Textract does a better job in detecting modern language and “old English” than Math. And this is because Textract has difficulty in identifying upper subscript and lower subscript in mathematical operations. In addition, when we only have a capitalized letter independently standing in a line for operation, Textract has high rate of false identification. \n",
        "\n",
        "As a result, our data helped us test our hypothesis, showing the strength and the weakness of Textract as an ML Service."
      ],
      "metadata": {
        "id": "qyCgs0ZmsTvB"
      }
    }
  ]
}